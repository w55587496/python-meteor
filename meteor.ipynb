{
 "cells": [
  {
   "cell_type": "code",
   "execution_count": null,
   "metadata": {},
   "outputs": [],
   "source": [
    "# import requests\n",
    "\n",
    "# from selenium import webdriver\n",
    "# from selenium.webdriver.support import expected_conditions as EC\n",
    "# from selenium.common.exceptions import NoSuchElementException\n",
    "# from selenium.webdriver.support.ui import WebDriverWait\n",
    "# from bs4 import BeautifulSoup\n",
    "\n",
    "\n",
    "# browser = webdriver.Chrome()\n",
    "# browser.get('https://meteor.today/board/mood')\n",
    "# btn = browser.find_element_by_link_text(\"載入更多\")\n",
    "# soup = BeautifulSoup(browser.page_source, 'lxml')\n",
    "# btn.click()\n",
    "# # for title in soup.find_all('div', attrs = {\"class\": \"header ng-binding\"}):\n",
    "# #     print(title.get_text().replace(\"\\n\", \"\"))"
   ]
  },
  {
   "cell_type": "code",
   "execution_count": null,
   "metadata": {},
   "outputs": [],
   "source": [
    "import requests\n",
    "import json\n",
    "from urllib.parse import unquote\n",
    "post_data = {\n",
    "    'boardId': \"56dd77ae861c9f3163183f49\",\n",
    "    'isCollege': False,\n",
    "    'page': 1,\n",
    "    'pageSize': 30\n",
    "}\n",
    "r = requests.post('https://meteor.today/article/get_hot_articles', data=post_data)\n",
    "url = unquote(r.text)\n",
    "print (url)"
   ]
  },
  {
   "cell_type": "code",
   "execution_count": null,
   "metadata": {},
   "outputs": [],
   "source": []
  }
 ],
 "metadata": {
  "kernelspec": {
   "display_name": "Python 3",
   "language": "python",
   "name": "python3"
  },
  "language_info": {
   "codemirror_mode": {
    "name": "ipython",
    "version": 3
   },
   "file_extension": ".py",
   "mimetype": "text/x-python",
   "name": "python",
   "nbconvert_exporter": "python",
   "pygments_lexer": "ipython3",
   "version": "3.7.3"
  }
 },
 "nbformat": 4,
 "nbformat_minor": 2
}
